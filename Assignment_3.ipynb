{
 "cells": [
  {
   "cell_type": "code",
   "execution_count": 9,
   "id": "de8a5892-3890-47d9-bdb8-b77f2fb37e1c",
   "metadata": {},
   "outputs": [
    {
     "name": "stdout",
     "output_type": "stream",
     "text": [
      "0\n",
      "1\n",
      "2\n",
      "3\n",
      "4\n"
     ]
    },
    {
     "data": {
      "text/plain": [
       "15"
      ]
     },
     "execution_count": 9,
     "metadata": {},
     "output_type": "execute_result"
    }
   ],
   "source": [
    "# Q1. Explain with an example each when to use a for loop and a while loop.\n",
    "#For loop is used where we know how many times it runs.\n",
    "#ex:\n",
    "for i in range(5):\n",
    "    print(i)\n",
    "#while loop is used until condition is true.\n",
    "#ex:\n",
    "n=5\n",
    "sum=0\n",
    "count=1\n",
    "while count<=n:\n",
    "    sum+=count\n",
    "    count+=1\n",
    "sum"
   ]
  },
  {
   "cell_type": "code",
   "execution_count": 23,
   "id": "e9bfa06d-ad64-4fe8-be91-a5069f3fbf9d",
   "metadata": {},
   "outputs": [
    {
     "name": "stdout",
     "output_type": "stream",
     "text": [
      "3628800\n"
     ]
    }
   ],
   "source": [
    "# Q2. Write a python program to print the sum and product of the first 10 natural numbers using for and while loop.\n",
    "'''n=10\n",
    "sum=0\n",
    "count=1\n",
    "while count<=n:\n",
    "    sum+=count\n",
    "    count+=1\n",
    "sum'''\n",
    "product=1\n",
    "for i in range(1,11):\n",
    "    product=product*i\n",
    "print(product)\n",
    "    \n",
    "    \n",
    "\n",
    "\n",
    "    "
   ]
  },
  {
   "cell_type": "code",
   "execution_count": 21,
   "id": "ddbd2b1f-2e17-46b0-bfd5-34a2cecff47d",
   "metadata": {},
   "outputs": [
    {
     "name": "stdin",
     "output_type": "stream",
     "text": [
      "enter unit consumed  310\n"
     ]
    },
    {
     "name": "stdout",
     "output_type": "stream",
     "text": [
      "2250.0\n"
     ]
    }
   ],
   "source": [
    "\"\"\" Q3. Create a python program to compute the electricity bill for a household.\n",
    "The per-unit charges in rupees are as follows: For the first 100 units, the user will be charged Rs. 4.5 per\n",
    "unit, for the next 100 units, the user will be charged Rs. 6 per unit, and for the next 100 units, the user will\n",
    "be charged Rs. 10 per unit, After 300 units and above the user will be charged Rs. 20 per unit.\n",
    "You are required to take the units of electricity consumed in a month from the user as input.\n",
    "Your program must pass this test case: when the unit of electricity consumed by the user in a month is\n",
    "310, the total electricity bill should be 2250\"\"\"\n",
    "\n",
    "unit=int(input(\"enter unit consumed \"))\n",
    "if unit <= 100:\n",
    "    print(unit*4.5)\n",
    "elif unit <= 200:\n",
    "    print(100*4.5 + (unit-100)*6)\n",
    "elif unit <= 300:\n",
    "    print(100*4.5 + 100*6 + (unit-200)*10)\n",
    "elif unit >= 300:\n",
    "    print(100*4.5 + 100*6 + 100*10 + (unit-300)*20)\n",
    "\n",
    "    "
   ]
  },
  {
   "cell_type": "code",
   "execution_count": 15,
   "id": "fef98a82-d0c8-4785-b00e-0b3ab043a633",
   "metadata": {},
   "outputs": [
    {
     "name": "stdout",
     "output_type": "stream",
     "text": [
      "[1, 8, 27, 64, 125, 216, 343, 512, 729, 1000, 1331, 1728, 2197, 2744, 3375, 4096, 4913, 5832, 6859, 8000, 9261, 10648, 12167, 13824, 15625, 17576, 19683, 21952, 24389, 27000, 29791, 32768, 35937, 39304, 42875, 46656, 50653, 54872, 59319, 64000, 68921, 74088, 79507, 85184, 91125, 97336, 103823, 110592, 117649, 125000, 132651, 140608, 148877, 157464, 166375, 175616, 185193, 195112, 205379, 216000, 226981, 238328, 250047, 262144, 274625, 287496, 300763, 314432, 328509, 343000, 357911, 373248, 389017, 405224, 421875, 438976, 456533, 474552, 493039, 512000, 531441, 551368, 571787, 592704, 614125, 636056, 658503, 681472, 704969, 729000, 753571, 778688, 804357, 830584, 857375, 884736, 912673, 941192, 970299, 1000000]\n",
      "[64, 125, 512, 1000, 1728, 3375, 4096, 8000, 13824, 15625, 21952, 27000, 32768, 42875, 46656, 64000, 85184, 91125, 110592, 125000, 140608, 166375, 175616, 216000, 262144, 274625, 314432, 343000, 373248, 421875, 438976, 512000, 592704, 614125, 681472, 729000, 778688, 857375, 884736, 1000000]\n"
     ]
    }
   ],
   "source": [
    "\"\"\"Q4. Create a list of numbers from 1 to 100. Use for loop and while loop to calculate the cube of each\n",
    "number and if the cube of that number is divisible by 4 or 5 then append that number in a list and print\n",
    "that list.\"\"\"\n",
    "\n",
    "n =list(range(1,101))\n",
    "l1=[]\n",
    "l2=[]\n",
    "for i in n:\n",
    "    l1.append(i**3)\n",
    "    if i%4==0 or i%5==0:\n",
    "        l2.append(i**3)\n",
    "print(l1)\n",
    "print(l2)\n"
   ]
  },
  {
   "cell_type": "code",
   "execution_count": 6,
   "id": "eacae91a-4359-4c5b-9eee-cbfa9a9606a9",
   "metadata": {},
   "outputs": [
    {
     "name": "stdout",
     "output_type": "stream",
     "text": [
      "12\n"
     ]
    }
   ],
   "source": [
    "'''Q5. Write a program to filter count vowels in the below-given string.'''\n",
    "string = \"I want to become a data scientist\"\n",
    "n=len(string)\n",
    "count=0\n",
    "for i in range(n):\n",
    "    if (string[i]==\"a\") or (string[i]==\"e\") or (string[i]==\"i\") or (string[i]==\"o\") or (string[i]==\"u\") or (string[i]==\"I\") :\n",
    "        count+=1\n",
    "    else:\n",
    "        pass\n",
    "print(count)\n",
    "\n",
    "        "
   ]
  }
 ],
 "metadata": {
  "kernelspec": {
   "display_name": "Python 3 (ipykernel)",
   "language": "python",
   "name": "python3"
  },
  "language_info": {
   "codemirror_mode": {
    "name": "ipython",
    "version": 3
   },
   "file_extension": ".py",
   "mimetype": "text/x-python",
   "name": "python",
   "nbconvert_exporter": "python",
   "pygments_lexer": "ipython3",
   "version": "3.10.8"
  }
 },
 "nbformat": 4,
 "nbformat_minor": 5
}
